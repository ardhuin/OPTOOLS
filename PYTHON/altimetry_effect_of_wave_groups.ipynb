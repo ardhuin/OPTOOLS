{
 "cells": [
  {
   "cell_type": "code",
   "execution_count": null,
   "id": "ecb7b549",
   "metadata": {},
   "outputs": [],
   "source": [
    "#\n",
    "# Uses a simple surface simulator and waveform tracker to investigate\n",
    "# effects of wave groups on retrieved wave heights. \n",
    "# First created in Matlab by F. Ardhuin     2021/09/15\n",
    "# Adpatation to python:      M. de Carlo    2022/04/07\n",
    "#\n",
    "\n",
    "from matplotlib import pyplot as plt\n",
    "import numpy as np\n",
    "from surface_simulation_functions import *\n",
    "from altimetry_waveforms_functions import *\n",
    "import warnings\n",
    "\n",
    "warnings.filterwarnings(\"ignore\")\n",
    "\n",
    "plt.rcParams.update({'font.size': 18,'savefig.facecolor':'white'})"
   ]
  },
  {
   "cell_type": "code",
   "execution_count": null,
   "id": "2d4e98ec",
   "metadata": {},
   "outputs": [],
   "source": [
    "# In this first example we define the wave spectrum direcly on the kx,ky grid \n",
    "# that is the Fourier transform of the x,y grid we want for the sea surface\n",
    "\n",
    "# kX, kY : grid of wavenumbers = 2 * pi /wavelength\n",
    "# steps : dkx and dky, with nx and ny values. dkx = 2*pi/(dx*nx)\n",
    "# x, y : grid of real x,y : nx values with a dx step. \n",
    "noise= 0\n",
    "## ---  physical surface definition\n",
    "# size of simulated sea surface in x and y\n",
    "nx = 2048\n",
    "ny = 2048\n",
    "dx = 10 # [m]\n",
    "dy = 10 # [m]\n",
    "\n",
    "## --- defines spectrum\n",
    "theta_m=60\n",
    "D=2000\n",
    "T0=16\n",
    "Hs = 10\n",
    "Lp=9.81/np.pi*T0**2;\n",
    "kp=2*np.pi/Lp;sx=kp*0.1;sy=sx;\n",
    "\n",
    "Z1, kX, kY,dkx,dky = def_spectrum_for_surface(nx=nx,ny=ny,dx=dx,dy=dy,theta_m=theta_m,D=D,T0=T0,Hs=Hs,\n",
    "                         sk_theta=0.001,sk_k=0.001,typeSpec='Gaussian')\n",
    "\n",
    "# Z1, kX, kY = def_spectrum_for_surface(nx=nx,ny=ny,dx=dx,dy=dy,theta_m=theta_m,D=D,T0=T0,\n",
    "#                                       nk=1001,nth=36,klims=(0.0002,0.2),n=4,typeSpec='PM')\n",
    "#S1,x,y= surface_from_Z1kxky(Z1,kX,kY) # This function contains the random operator of phases\n",
    "\n",
    "S1,S2_i,x,y,kX0,kY0,rg,dkx,dky=surface_2D_from_Z1kxky(Z1,kX,kY,0)\n"
   ]
  },
  {
   "cell_type": "code",
   "execution_count": null,
   "id": "cd7dc4ae",
   "metadata": {},
   "outputs": [],
   "source": [
    "np.sum(Z1)\n",
    "fig,ax=plt.subplots(figsize=(8,8))\n",
    "plt.imshow(np.fliplr(np.transpose(Z1)),vmin=0, vmax=10000)\n"
   ]
  },
  {
   "cell_type": "code",
   "execution_count": null,
   "id": "1f155bd1",
   "metadata": {},
   "outputs": [],
   "source": [
    "# For checking: let us now read matlab surface ... \n",
    "fig,ax=plt.subplots(figsize=(8,8))\n",
    "img=plt.imshow(np.flipud(S1),vmin=-4, vmax=4,extent=[x[0],x[-1],y[0],y[-1]])\n",
    "plt.xlabel('x (m)')\n",
    "plt.ylabel('y (m)')\n",
    "plt.title('map of surface elevation (m)')\n",
    "fig.colorbar(img)"
   ]
  },
  {
   "cell_type": "code",
   "execution_count": null,
   "id": "5b876bf3",
   "metadata": {},
   "outputs": [],
   "source": [
    "np.var(S1)\n",
    "fig,ax=plt.subplots(figsize=(12,5))\n",
    "plt.plot(x,S1[1023,:],'k-')\n",
    "plt.xlabel('x (m)')\n",
    "plt.ylabel('surface elevation (m)')\n",
    "plt.title('transect of surface elevation')"
   ]
  },
  {
   "cell_type": "code",
   "execution_count": null,
   "id": "dcf0da73",
   "metadata": {},
   "outputs": [],
   "source": [
    "freq_satsampl=40 # freq for waveforms\n",
    "v_sat=7000 # satellite velocity in m/s\n",
    "clight=299792458\n",
    "bandwidth =320*1e6 # satellite radar bandwidth in Hz\n",
    "alti_sat=519000 # altitude of satellite CFOSAT\n",
    "# WARNING: the following 4 parameters should probably be adjusted as a function of the wave height ... \n",
    "radi = 6000     # radius used to compute waveform\n",
    "radi1 = 2000     # inner radius for Hs average\n",
    "radi2 = 1200    # outer radius for Hs average\n",
    "range_shift = 10 # shift of the waveforms from the \"epoch\" in meters\n",
    "\n",
    "isplot_steps=0\n",
    "# --- edges for range windows ------------\n",
    "dr = clight * 1/(2*bandwidth)\n",
    "edges_max = 30\n",
    "\n",
    "nHs=251\n",
    "Hs_max = 25\n",
    "DiamChelton = calc_footprint_diam(Hs,Rorbit = alti_sat, pulse_width=1/bandwidth)\n",
    "nxa = np.floor(DiamChelton/dx).astype(int) # size of radius of footprint in pixel\n",
    "print('size of radius of footprint in pixel : ',nxa)\n",
    "\n",
    "\n",
    "wfm_ref, Hsm_ref, edges_ref,dr = generate_wvform_database(nHs,ne=None,bandwidth=bandwidth,edges_max=edges_max,\n",
    "                                                          Hs_max=25,offset=range_shift)\n",
    "    \n",
    "nxa=np.floor(radi/dx).astype(int) # size of radius of footprint in pixel\n",
    "di=np.floor((v_sat/freq_satsampl)/dx).astype(int) # distance between footprint centers, in pixels (v_sat/freq_satsampl = dsitance in m)\n",
    "nsamp=np.floor((nx-2*nxa)/di).astype(int) # Nb of samples\n",
    "\n",
    "Hs_std,Hs_stdbis,Hs_std2,Hs_retrack,ind_retrack,Xalt,waveforms,surf1,footprint1 = fly_over_track_v0(x,y,S1,nsamp,nxa,di,wfm_ref,Hsm_ref,edges_ref,radi,radi1,radi2,alti_sat,range_shift)\n"
   ]
  },
  {
   "cell_type": "code",
   "execution_count": null,
   "id": "cef5f24f",
   "metadata": {},
   "outputs": [],
   "source": [
    "plt.imshow(np.flipud(surf1),vmin=-4, vmax=4)\n",
    "\n",
    "fig,ax=plt.subplots(figsize=(12,4))\n",
    "plt.plot(Xalt*0.001,Hs_std,color='k',label='python')\n",
    "plt.xlabel('along-track distance (km)')\n",
    "plt.ylabel('Hs from std(elevation)')"
   ]
  },
  {
   "cell_type": "code",
   "execution_count": null,
   "id": "19903c8a",
   "metadata": {},
   "outputs": [],
   "source": [
    "surf2 = np.nan*np.ones(surf1.shape)\n",
    "surf2[footprint1>0]=surf1[footprint1>0]\n",
    "\n",
    "Hs_std1 = 4*np.std(surf1)/np.sqrt(np.mean(footprint1))\n",
    "Hs_std12 = 4*np.nanstd(surf2)#/np.sqrt(np.mean(footprint1))\n",
    "print('Hs std1 = ',Hs_std1,' - Hs std2 = ',Hs_std12)"
   ]
  },
  {
   "cell_type": "code",
   "execution_count": null,
   "id": "f569b4e1",
   "metadata": {},
   "outputs": [],
   "source": [
    "ir=int(ind_retrack[0][0])\n",
    "print('index of retracked waveform is:,',ir,' with Hs=', \\\n",
    "    Hsm_ref[ir])\n",
    "fig,ax=plt.subplots(figsize=(12,4))\n",
    "line1=plt.plot(edges_ref[0:-1]+dr/2,waveforms[0,:],color='k',label='waveform')\n",
    "line2=plt.plot(edges_ref[0:-1]+dr/2,wfm_ref[ir,:],color='r',label='fitted wf')\n",
    "plt.xlabel('range (m)')\n",
    "plt.ylabel('waveform')\n",
    "leg = plt.legend(loc='upper right')"
   ]
  },
  {
   "cell_type": "code",
   "execution_count": null,
   "id": "985dc0d9",
   "metadata": {},
   "outputs": [],
   "source": [
    "fig,ax=plt.subplots(figsize=(12,6))\n",
    "line1=plt.plot(Xalt*0.001, Hs_retrack, color='k',label='waveform fit')\n",
    "line2=plt.plot(Xalt*0.001, Hs_std, color='r',label='Hs avg on disk')\n",
    "#line4=plt.plot(Xalt*0.001, Hs_stdbis,'--', color='b',label='Hs avg on disk (nan std)')\n",
    "#line3=plt.plot(Xalt*0.001, Hs_std2, color='g',label='Hs avg on annulus')\n",
    "plt.grid\n",
    "plt.xlabel('x (km)')\n",
    "plt.ylabel('Hs (m)')\n",
    "plt.title('Different estimates of wave height')\n",
    "leg = plt.legend(loc='upper right')\n",
    "plt.show()"
   ]
  }
 ],
 "metadata": {
  "kernelspec": {
   "display_name": "Python 3",
   "language": "python",
   "name": "python3"
  },
  "language_info": {
   "codemirror_mode": {
    "name": "ipython",
    "version": 3
   },
   "file_extension": ".py",
   "mimetype": "text/x-python",
   "name": "python",
   "nbconvert_exporter": "python",
   "pygments_lexer": "ipython3",
   "version": "3.8.8"
  }
 },
 "nbformat": 4,
 "nbformat_minor": 5
}
