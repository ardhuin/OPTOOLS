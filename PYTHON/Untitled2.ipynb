{
 "cells": [
  {
   "cell_type": "code",
   "execution_count": 33,
   "id": "c5feadcb",
   "metadata": {},
   "outputs": [
    {
     "name": "stdout",
     "output_type": "stream",
     "text": [
      "/home/ardhuin/ADMIN/PROPOSALS/EE11/S2/DATA/T11SMS_20160429T183252\n",
      "6580\n",
      "3600\n",
      "(801, 801)\n",
      "6580\n",
      "3600\n",
      "(801, 801)\n",
      "6580\n",
      "3600\n",
      "(801, 801)\n"
     ]
    }
   ],
   "source": [
    "import matplotlib.pyplot as plt\n",
    "import numpy as np\n",
    "from S2_read import *\n",
    "from s2_and_sun_angs import *\n",
    "S2file='/home/ardhuin/ADMIN/PROPOSALS/EE11/S2/DATA/T11SMS_20160429T183252';\n",
    "#S2file='/home/datawork-WW3/IMAGERY/S2/S2A_MSIL1C_20160429T183252_N0201_R027_T11SMS_20160429T184037.SAFE/GRANULE/L1C_T11SMS_A004457_20160429T184037/IMG_DATA/T11SMS_20160429T183252'\n",
    "boxi=[5600,6400,3600,4400] # bounding box indices in image:  East West South North \n",
    "bands=['B04','B03','B02'];  \n",
    "nb=np.shape(bands)[0]\n",
    "[imgs,NX,NY,nx,ny,dx,dy]=S2_read(S2file,boxi,bands)\n",
    "\n",
    "# defines indices of where we are in coarse array of angles\n",
    "# these indices are relative to top-left corner \n",
    "indx=int(np.round((0.5*(boxi[0]+boxi[1]))/(5000/dx)))\n",
    "indy=int(np.round((NY*10/dx-0.5*(boxi[2]+boxi[3]))/(5000/dx)))\n",
    "S2xml=S2file+'.xml'\n",
    "\n",
    "#S2xml='/home/datawork-WW3/IMAGERY/S2/S2A_MSIL1C_20160429T183252_N0201_R027_T11SMS_20160429T184037.SAFE/GRANULE/L1C_T11SMS_A004457_20160429T184037/MTD_TL.xml'\n",
    "\n",
    "(Tile_ID, AngleObs, AngleSun) = get_angleobs(S2xml)\n",
    "ulx=AngleObs['ul_x']\n",
    "uly=AngleObs['ul_y']\n",
    "nz1=nz2=23\n",
    "satg = numpy.zeros(shape=(nz1,nz2,13,3))\n",
    "sung = numpy.zeros(shape=(nz1,nz2,5))\n",
    "detector=numpy.zeros(shape=(nz1,nz2,13))\n",
    "\n",
    "observe=AngleObs['obs']\n",
    "sunall=AngleSun['sun']\n",
    "sh1=np.shape(observe)\n",
    "ncells=sh1[0]\n",
    "\n",
    "for icell in range(0,ncells):\n",
    "#  This takes the nearest cell in matrix \n",
    "   thiscell=observe[icell]\n",
    "   iband=thiscell[0]\n",
    "   ix=int((thiscell[2]-ulx)/5000)\n",
    "   iy=int((uly-thiscell[3])/5000)\n",
    "   detector[iy,ix,iband]=thiscell[1]\n",
    "   satg[iy,ix,iband,0]=thiscell[6][0]\n",
    "   satg[iy,ix,iband,1]=thiscell[6][1]\n",
    "   satg[iy,ix,iband,2]=thiscell[6][2]\n",
    "\n",
    "for isun in range(0,nz1*nz2):\n",
    "   suncell=sunall[isun]\n",
    "   ix=int((suncell[0]-ulx)/5000)\n",
    "   iy=int((uly-suncell[1])/5000)\n",
    "   sung[iy,ix,0]=suncell[2]\n",
    "   sung[iy,ix,1]=suncell[3]\n",
    "   sung[iy,ix,2]=suncell[4][0]\n",
    "   sung[iy,ix,3]=suncell[4][1]\n",
    "   sung[iy,ix,4]=suncell[4][2]\n",
    "\n",
    "\n",
    "#observe = [bandId, detectorId, xcoord, ycoord, Sat, Gx]\n",
    "#                        AngleObs['obs'].append(observe)\n"
   ]
  },
  {
   "cell_type": "code",
   "execution_count": 32,
   "id": "31321560",
   "metadata": {},
   "outputs": [
    {
     "data": {
      "text/plain": [
       "array([-0.10126618,  0.03955332,  0.99407278])"
      ]
     },
     "execution_count": 32,
     "metadata": {},
     "output_type": "execute_result"
    }
   ],
   "source": [
    "satg[indy,indx,2,:]"
   ]
  },
  {
   "cell_type": "code",
   "execution_count": 44,
   "id": "345d7ce4",
   "metadata": {},
   "outputs": [],
   "source": [
    "# these are the 3 components of the unit vector pointing to the sun\n",
    "sun=sung[indy,indx,2:5]\n",
    "\n",
    "thetav=np.zeros(shape=(nb,1))\n",
    "phiv=thetav\n",
    "offspec=thetav\n",
    "phitrig=thetav\n",
    "jj=0\n",
    "for jb in ibands:\n",
    "   # Unit vector from point in swath to sat\n",
    "   sat=satg[indy,indx,jb,0:3]\n",
    "   # vector that bisects the sun-target-sat angle \n",
    "   mid=sun+sat \n",
    "   midn=np.sqrt(mid[0]**2+mid[1]**2+mid[2]**2)\n",
    "   mid=mid/midn;\n",
    "   \n",
    "   offspec[jj]=np.arccos(mid[2])*todeg            # off-specular angle\n",
    "   phitrig[jj]=np.arctan2(mid[0],mid[1])*todeg   # azimuth of bistatic look\n",
    "   jj=jj+1\n",
    "\n"
   ]
  },
  {
   "cell_type": "code",
   "execution_count": 40,
   "id": "364f69cc",
   "metadata": {},
   "outputs": [
    {
     "data": {
      "text/plain": [
       "(3,)"
      ]
     },
     "execution_count": 40,
     "metadata": {},
     "output_type": "execute_result"
    }
   ],
   "source": [
    "np.shape(sat)"
   ]
  },
  {
   "cell_type": "code",
   "execution_count": 21,
   "id": "02c9539d",
   "metadata": {},
   "outputs": [
    {
     "data": {
      "text/plain": [
       "array([ 0.3101452 , -0.3478892 ,  0.88475028])"
      ]
     },
     "execution_count": 21,
     "metadata": {},
     "output_type": "execute_result"
    }
   ],
   "source": [
    "sat[0,:]\n"
   ]
  },
  {
   "cell_type": "code",
   "execution_count": 17,
   "id": "fd99e54d",
   "metadata": {},
   "outputs": [
    {
     "data": {
      "text/plain": [
       "array([138.28281452, 139.61621748, 139.70670128])"
      ]
     },
     "execution_count": 17,
     "metadata": {},
     "output_type": "execute_result"
    }
   ],
   "source": [
    "offspec\n"
   ]
  },
  {
   "cell_type": "code",
   "execution_count": null,
   "id": "9d192b22",
   "metadata": {},
   "outputs": [],
   "source": []
  }
 ],
 "metadata": {
  "kernelspec": {
   "display_name": "Python 3",
   "language": "python",
   "name": "python3"
  },
  "language_info": {
   "codemirror_mode": {
    "name": "ipython",
    "version": 3
   },
   "file_extension": ".py",
   "mimetype": "text/x-python",
   "name": "python",
   "nbconvert_exporter": "python",
   "pygments_lexer": "ipython3",
   "version": "3.8.8"
  }
 },
 "nbformat": 4,
 "nbformat_minor": 5
}
