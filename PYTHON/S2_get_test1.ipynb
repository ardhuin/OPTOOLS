{
 "cells": [
  {
   "cell_type": "code",
   "execution_count": null,
   "id": "e0439500",
   "metadata": {},
   "outputs": [],
   "source": [
    "import matplotlib.pyplot as plt\n",
    "import matplotlib.colors as mcolors\n",
    "\n",
    "from spectral_analysis_functions import *\n",
    "# Using OceanDataLab reader \n",
    "#from sentinel2_l1c import *\n",
    "import numpy as np\n",
    "from S2_read import *\n",
    "from s2_angs import *\n",
    "S2file='/home/ardhuin/ADMIN/PROPOSALS/EE11/S2/DATA/T11SMS_20160429T183252';\n",
    "S2path='/home/ardhuin/Téléchargements/S2A_MSIL1C_20160429T183252_N0201_R027_T11SMS_20160429T184037.SAFE'\n",
    "\n",
    "S2file='/home/ardhuin/Téléchargements/S2A_MSIL1C_20160429T183252_N0201_R027_T11SMS_20160429T184037.SAFE/GRANULE/L1C_T11SMS_A004457_20160429T184037/IMG_DATA/T11SMS_20160429T183252'\n",
    "#S2file='/home/datawork-WW3/IMAGERY/S2/S2A_MSIL1C_20160429T183252_N0201_R027_T11SMS_20160429T184037.SAFE/GRANULE/L1C_T11SMS_A004457_20160429T184037/IMG_DATA/T11SMS_20160429T183252'\n"
   ]
  },
  {
   "cell_type": "code",
   "execution_count": null,
   "id": "5686c52d",
   "metadata": {},
   "outputs": [],
   "source": [
    "boxi=[5600,6400,3600,4400] # East West South North \n",
    "bands=['B04','B03','B02'];  \n",
    "nb=np.shape(bands)[0]\n",
    "[imgs,NX,NY,nx,ny,dx,dy]=S2_read(S2file,boxi,bands)\n",
    "\n",
    "X = np.arange(0,nx*dx,dx) # from 0 to (nx-1)*dx with a dx step\n",
    "Y = np.arange(0,ny*dy,dy)\n"
   ]
  },
  {
   "cell_type": "code",
   "execution_count": null,
   "id": "9d1105bd",
   "metadata": {},
   "outputs": [],
   "source": [
    "# normalizes the image values\n",
    "img1=imgs[0,:,:]/np.mean(imgs[0,:,:].flatten())\n",
    "plt.imshow(np.transpose(np.fliplr(img1)),vmin=0.5, vmax=2) #edit your vmin, vmax and cmap if you don't like greyscale colormap\n",
    "plt.colorbar()\n",
    "plt.show()\n"
   ]
  },
  {
   "cell_type": "code",
   "execution_count": null,
   "id": "c274275b",
   "metadata": {},
   "outputs": [],
   "source": [
    "#img2=img1[0:400,0:800]\n",
    "(Eta,Eta_all,kx2,ky2,dkx,dky)=FFT2D_one_array(img1,10,10,16,isplot=0)\n",
    "print(np.shape(Eta))\n",
    "print(np.shape(kx2))\n",
    "print(np.shape(ky2))\n",
    "\n",
    "fig,axs=plt.subplots(1,2,figsize=(20,7))#,sharey=True,sharex=True)\n",
    "_=plt.gca().set_aspect('equal', adjustable='box')\n",
    "\n",
    "im=axs[0].pcolormesh(X/1000,Y/1000,np.transpose(img1),cmap='seismic',norm = mcolors.Normalize(vmin=0.5, vmax=2))\n",
    "_=plt.colorbar(im,ax=axs[0],label='S2 image band B04')\n",
    "_=axs[0].set_xlabel('X [km]')\n",
    "_=axs[0].set_ylabel('Y [km]')\n",
    "_=axs[0].set_title('Surface')\n",
    "\n",
    "im=axs[1].pcolormesh(kx2*1000,ky2*1000,10*np.log10((Eta)),norm = mcolors.Normalize(vmin=-30, vmax=20))\n",
    "_=plt.colorbar(im,ax=axs[1],label='$\\zeta$ [m]')\n",
    "\n",
    "_=axs[1].set_xlabel('k_x [cycles / km]')\n",
    "_=axs[1].set_ylabel('k_y [cycles / km]')\n",
    "_=axs[1].set_title('Spectrum')\n",
    "_=plt.tight_layout()\n",
    "\n",
    "print('variance:',np.var(img1.flatten()), 'sum of spectrum:',np.sum(Eta.flatten())*dkx*dky )\n"
   ]
  },
  {
   "cell_type": "code",
   "execution_count": null,
   "id": "56a37d75",
   "metadata": {},
   "outputs": [],
   "source": [
    "print(kx2[:,0])"
   ]
  },
  {
   "cell_type": "code",
   "execution_count": null,
   "id": "d90620db",
   "metadata": {},
   "outputs": [],
   "source": [
    "nx"
   ]
  }
 ],
 "metadata": {
  "kernelspec": {
   "display_name": "Python 3",
   "language": "python",
   "name": "python3"
  },
  "language_info": {
   "codemirror_mode": {
    "name": "ipython",
    "version": 3
   },
   "file_extension": ".py",
   "mimetype": "text/x-python",
   "name": "python",
   "nbconvert_exporter": "python",
   "pygments_lexer": "ipython3",
   "version": "3.8.8"
  }
 },
 "nbformat": 4,
 "nbformat_minor": 5
}
