{
 "cells": [
  {
   "cell_type": "markdown",
   "metadata": {
    "tags": []
   },
   "source": [
    "# Import Packages"
   ]
  },
  {
   "cell_type": "code",
   "execution_count": null,
   "metadata": {},
   "outputs": [],
   "source": [
    "# Version 2.0 : uses waveforms as a function of time ... \n",
    "import sys\n",
    "import os\n",
    "\n",
    "PATH_with_functions = '/home/ardhuin/TOOLS/OPTOOLS/PYTHON/'\n",
    "sys.path.append(PATH_with_functions)\n",
    "\n",
    "import glob\n",
    "import xarray as xr\n",
    "import numpy as np\n",
    "import pandas as pd\n",
    "\n",
    "#import cartopy.crs as ccrs\n",
    "#import cartopy.feature as cfeature\n",
    "import scipy.interpolate as spi\n",
    "import scipy.integrate as spint\n",
    "from scipy.ndimage import gaussian_filter, correlate\n",
    "from scipy.signal import hilbert,hilbert2,fftconvolve\n",
    "\n",
    "from functions_cfosat_env import *\n",
    "from surface_simulation_functions import *\n",
    "from altimetry_waveforms_functions import *\n",
    "from matplotlib.dates import DateFormatter\n",
    "# --- plotting and interactive stuff ----------------------\n",
    "import matplotlib.pyplot as plt\n",
    "# from matplotlib.ticker import AutoMinorLocator, FixedLocator\n",
    "\n",
    "#from Envelope_convolution_functions import *\n",
    "\n",
    "cNorm = mcolors.Normalize(vmin=0, vmax=2)\n",
    "jet = plt.get_cmap('jet')\n",
    "mpl.rcParams.update({'figure.figsize':[10,6],'axes.grid' : True,'font.size': 14,'savefig.facecolor':'white'})\n",
    "\n",
    "cmap0 = 'viridis'"
   ]
  },
  {
   "cell_type": "markdown",
   "metadata": {
    "jp-MarkdownHeadingCollapsed": true,
    "tags": []
   },
   "source": [
    "## Define waveforms with wave group effect"
   ]
  },
  {
   "cell_type": "code",
   "execution_count": null,
   "metadata": {
    "tags": []
   },
   "outputs": [],
   "source": [
    "clight = 299792458\n",
    "Rearth = 6370*1e3\n",
    "\n",
    "# --- satellite parameters ----------------------------\n",
    "v_sat = 7*1e3 # satellite velocity in m/s\n",
    "Altis = np.array([519*1e3, 781*1e3, 800*1e3, 891*1e3, 1340*1e3])\n",
    "namesAltis = ['CFOSAT', 'SARAL', 'ENVISAT', 'SWOT', 'Jason3']\n",
    "BW = np.array([(400*1e6),(500*1e6),(320*1e6),(320*1e6),(320*1e6)])\n",
    "theta3dB=np.array([(1.6),(0.61),(1.28),(1.28),(1.28)])*np.pi/180.\n",
    "\n",
    "ialti = 0\n",
    "\n",
    "Gamma = 0.5 * (1.0/np.log(2.0))*np.sin(theta3dB[ialti])*np.sin(theta3dB[ialti])\n",
    "Gamma = 1.\n",
    "alti_sat = Altis[ialti]\n",
    "bandwidth = BW[ialti]       # bandwidth in Hz (note that CFOSAT/SWIM is oversampled to a 400 MHz band)\n",
    "nameSat = namesAltis[ialti]\n",
    "tau=1E9/bandwidth           # time interval in nanoseconds\n",
    "\n",
    "dr = clight * 1/(2*bandwidth)\n",
    "nominal_tracking_gate=70\n",
    "\n",
    "# --- radius to compute waveforms --------------\n",
    "Hs=10.0095\n",
    "DiamChelton = calc_footprint_diam(Hs,Rorbit = alti_sat, pulse_width=1/bandwidth)\n",
    "radi0=DiamChelton # size of diameter of footprint in pixel\n",
    "print('Chelton footprint diameter in km:',DiamChelton*0.001)\n",
    "nominal_tracking_gate=70\n",
    "min_range_fit=10\n",
    "range_offset = nominal_tracking_gate*dr  # number of meters above nadir sea level included in waveform\n",
    "\n",
    "ranges = np.arange(0,127*dr,dr)    # remember to increase 35 to higher values if needed\n",
    "rlim = np.sqrt((radi0/2)**2+(alti_sat)**2)-alti_sat+range_offset\n",
    "max_range_fit=np.argmax(ranges[ranges<=rlim])\n",
    "print('Maximum range used for retracking:',max_range_fit)\n",
    "\n",
    "\n",
    "wf_model='wf_erf4D'\n",
    "noise=1E-3\n",
    "wf_fit0=wf_eval(ranges,np.array((0,Hs,1.,0,0.)),clight,wf_model,noise=noise,alti_sat=alti_sat,\\\n",
    "                            tau=tau,nominal_tracking_gate=nominal_tracking_gate,mispointing=0.,theta3dB=theta3dB)\n",
    "wf_fit=wf_eval(ranges,np.array((0,Hs,1.,0.075,0.)),clight,wf_model,noise=noise,alti_sat=alti_sat,\\\n",
    "                            tau=tau,nominal_tracking_gate=nominal_tracking_gate,mispointing=0.,theta3dB=theta3dB)\n",
    "fig,axs=plt.subplots(1,2,figsize=(14,6))\n",
    "ax=axs[0]\n",
    "line1=ax.plot(ranges[min_range_fit:max_range_fit],wf_fit0[min_range_fit:max_range_fit],color='k',label='erf2D')\n",
    "line2=ax.plot(ranges[min_range_fit:max_range_fit],wf_fit[min_range_fit:max_range_fit],color='r',label='erf4D',linestyle='dotted')\n",
    "ax.set_xlabel('range (m)')\n",
    "ax.set_ylabel('waveform')\n",
    "ax=axs[1]\n",
    "line1=ax.plot(ranges[min_range_fit:max_range_fit],wf_fit[min_range_fit:max_range_fit]-wf_fit0[min_range_fit:max_range_fit],color='k',label='erf2D')\n",
    "ax.set_xlabel('range (m)')\n",
    "ax.set_ylabel('perturbation')\n",
    "\n",
    "waveforms=np.expand_dims(np.expand_dims(wf_fit, 0),0)\n",
    "Hs_retrack,ze_retrack,Pu,dar,R0r,di_retrack=retrack_waveforms(waveforms,ranges,max_range_fit,clight,tau=tau,\\\n",
    "                                    #min_method='gridsearch',wf_model=wf_model,costfun='LS',\\\n",
    "                                    min_method='pyramid4',wf_model=wf_model,costfun='LS',mispointing=[0.],\\\n",
    "                                    #min_method='Nelder-Mead',wf_model=wf_model,costfun='LS',mispointing=[0.],\\\n",
    "                                    alti_sat=alti_sat,nominal_tracking_gate=nominal_tracking_gate,min_range_fit=10)\n",
    "\n",
    "ip=0\n",
    "jp=0\n",
    "print('Retracking result:',Hs_retrack[ip,jp],ze_retrack[ip,jp],di_retrack[ip,jp],dar[ip,jp],R0r[ip,jp])\n",
    "\n"
   ]
  },
  {
   "cell_type": "code",
   "execution_count": null,
   "metadata": {},
   "outputs": [],
   "source": []
  }
 ],
 "metadata": {
  "celltoolbar": "Raw Cell Format",
  "kernelspec": {
   "display_name": "Python 3",
   "language": "python",
   "name": "python3"
  },
  "language_info": {
   "codemirror_mode": {
    "name": "ipython",
    "version": 3
   },
   "file_extension": ".py",
   "mimetype": "text/x-python",
   "name": "python",
   "nbconvert_exporter": "python",
   "pygments_lexer": "ipython3",
   "version": "3.8.8"
  }
 },
 "nbformat": 4,
 "nbformat_minor": 4
}
