{
 "cells": [
  {
   "cell_type": "markdown",
   "metadata": {
    "tags": []
   },
   "source": [
    "# Import Packages"
   ]
  },
  {
   "cell_type": "code",
   "execution_count": null,
   "metadata": {
    "tags": []
   },
   "outputs": [],
   "source": [
    "import sys\n",
    "import os\n",
    "\n",
    "PATH_with_functions = '/home/ardhuin/TOOLS/OPTOOLS/PYTHON/'\n",
    "PATH_save0 = '/home/ardhuin/PUBLI/2023_groups/Notebook_retrack/test/'\n",
    "PATH_read0 = ''\n",
    "PATH_save = ''\n",
    "PATH_save2 = ''\n",
    "sys.path.append(PATH_with_functions)\n",
    "\n",
    "import glob\n",
    "import xarray as xr\n",
    "import numpy as np\n",
    "import pandas as pd\n",
    "\n",
    "#import cartopy.crs as ccrs\n",
    "#import cartopy.feature as cfeature\n",
    "import scipy.interpolate as spi\n",
    "import scipy.integrate as spint\n",
    "from scipy.ndimage import gaussian_filter, correlate\n",
    "from scipy.signal import hilbert,hilbert2,fftconvolve\n",
    "\n",
    "from functions_cfosat_env import *\n",
    "from surface_simulation_functions import *\n",
    "from altimetry_waveforms_functions import *\n",
    "from matplotlib.dates import DateFormatter\n",
    "# --- plotting and interactive stuff ----------------------\n",
    "import matplotlib.pyplot as plt\n",
    "# from matplotlib.ticker import AutoMinorLocator, FixedLocator\n",
    "\n",
    "#from Envelope_convolution_functions import *\n",
    "\n",
    "cNorm = mcolors.Normalize(vmin=0, vmax=2)\n",
    "jet = plt.get_cmap('jet')\n",
    "mpl.rcParams.update({'figure.figsize':[10,6],'axes.grid' : True,'font.size': 14,'savefig.facecolor':'white'})\n",
    "\n",
    "cmap0 = 'viridis'"
   ]
  },
  {
   "cell_type": "markdown",
   "metadata": {},
   "source": [
    "# Prepare all"
   ]
  },
  {
   "cell_type": "code",
   "execution_count": null,
   "metadata": {
    "tags": []
   },
   "outputs": [],
   "source": [
    "# ------ plot retrack vs 4 * std(zeta) for all radiuses for both ind1 and ind2 -------------\n",
    "def custom_plots_surf(ax,im,iskm=1,alongT_isY=1,labelcb=None):\n",
    "    if alongT_isY:\n",
    "        xlb = 'Cross-track '\n",
    "        ylb = 'Along-track '\n",
    "    else:\n",
    "        xlb = 'X '\n",
    "        ylb = 'Y '\n",
    "\n",
    "    if iskm:\n",
    "        xlb = xlb+'[km]'\n",
    "        ylb = ylb+'[km]'\n",
    "    else:\n",
    "        xlb = xlb+'[m]'\n",
    "        ylb = ylb+'[m]'       \n",
    "    \n",
    "    ax.set_xlabel(xlb);\n",
    "    ax.set_ylabel(ylb);\n",
    "\n",
    "    ax.set_aspect('equal', 'box');\n",
    "    if labelcb is None:\n",
    "        plt.colorbar(im, ax=ax)\n",
    "    else:\n",
    "        plt.colorbar(im, ax=ax,label=labelcb)\n",
    "    return ax\n",
    "\n",
    "def custom_plots_spec(ax,im,iswnb=1,alongT_isY=1,klim=None,labelcb=None):\n",
    "    if iswnb:\n",
    "        xlb = '$k_x$ [rad/m]'\n",
    "        ylb = '$k_x$ [rad/m]'\n",
    "    else:\n",
    "        xlb = '$k_x / 2 \\pi$ [km$^{-1}$]'\n",
    "        ylb = '$k_y / 2 \\pi$ [km$^{-1}$]'\n",
    "    \n",
    "    if alongT_isY:\n",
    "        ax.set_xlabel(ylb)\n",
    "        ax.set_ylabel(xlb)\n",
    "    else:\n",
    "        ax.set_xlabel(xlb)\n",
    "        ax.set_ylabel(ylb)\n",
    "\n",
    "    ax.set_aspect('equal', 'box');\n",
    "    if labelcb is None:\n",
    "        plt.colorbar(im, ax=ax)\n",
    "    else:\n",
    "        plt.colorbar(im, ax=ax,label=labelcb)\n",
    "        \n",
    "    if klim is not None:\n",
    "        ax.set_xlim((-klim,klim))\n",
    "        ax.set_ylim((-klim,klim))\n",
    "    return ax"
   ]
  },
  {
   "cell_type": "markdown",
   "metadata": {
    "tags": []
   },
   "source": [
    "## Read spectrum"
   ]
  },
  {
   "cell_type": "code",
   "execution_count": null,
   "metadata": {
    "tags": []
   },
   "outputs": [],
   "source": [
    "DS = xr.open_dataset(PATH_save2+'Spectrum_L2S_ind9_35.nc')\n",
    "Hs_9 = DS['Hs_ind_9_box'].compute().data\n",
    "Hs_9_L2S = DS['Hs_ind_9_L2S'].compute().data\n",
    "Hs_35 = DS['Hs_ind_35_box'].compute().data\n",
    "Hs_35_L2S = DS['Hs_ind_35_L2S'].compute().data\n",
    "# Use factor to check different wave heights ... \n",
    "Hsfac=1\n",
    "Lc_9 = calc_footprint_diam(Hs_9)\n",
    "print('ind 1: 9, Hs=',Hs_9,'m, Diameter Chelton =',Lc_9)\n",
    "Lc_35 = calc_footprint_diam(Hs_35*Hsfac)\n",
    "print('ind 2: 35, Hs=',Hs_35,'m, Diameter Chelton =',Lc_35)"
   ]
  },
  {
   "cell_type": "markdown",
   "metadata": {
    "jp-MarkdownHeadingCollapsed": true,
    "tags": []
   },
   "source": [
    "## Generate or load sea surface (geometry only)"
   ]
  },
  {
   "cell_type": "code",
   "execution_count": null,
   "metadata": {
    "tags": []
   },
   "outputs": [],
   "source": [
    "iscompute = 0\n",
    "if iscompute:\n",
    "    Efth = DS['Spec_L2S_ind_35_1Sided'].compute().data*Hs_35**2/Hs_35_L2S**2*Hsfac**2\n",
    "    th_vec = DS['phi_vector_L2S_ind_35'].compute().data\n",
    "    f_vec = DS['k_vector'].compute().data\n",
    "    nx_big = 2**12\n",
    "    ny_big = nx_big-2\n",
    "    dx_big=14\n",
    "    dy_big=14\n",
    "    seed=0\n",
    "\n",
    "    S_r_35_big,S_i_35_big,Xa_35_big,Ya_35_big,\\\n",
    "    rg,kX2_35_big,kY2_35_big,Ekxky_35_big,dkx2_35,dky2_35 = surface_from_Efth(Efth,f_vec,th_vec,\n",
    "                                                                        seed=seed,nx=nx_big,\n",
    "                                                                        ny=ny_big,dx=dx_big,dy=dy_big,iswvnb=1)\n",
    "\n",
    "    np.savez(PATH_save2+'surface_good_for_images_ind35_L2S',seed=seed,dx=dx_big,dy=dy_big,X=Xa_35_big,Y=Ya_35_big,S_r =S_r_35_big ,S_i = S_i_35_big)\n",
    "else:\n",
    "    data = np.load(PATH_save2+'surface_good_for_images_ind35_L2S.npz',allow_pickle=True)\n",
    "    dx_big = data['dx']\n",
    "    dy_big = data['dy']\n",
    "    Xa_35_big = data['X']\n",
    "    Ya_35_big = data['Y']\n",
    "    S_r_35_big = data['S_r']\n",
    "    S_i_35_big = data['S_i']\n",
    "    seed = data['seed']\n",
    "    \n",
    "B_35_big = np.sqrt(S_r_35_big**2+S_i_35_big**2)\n",
    "nx_big = len(Xa_35_big)\n",
    "ny_big = len(Ya_35_big)\n",
    "Xa_35_big_cent = Xa_35_big - 0.5*Xa_35_big.max()\n",
    "Ya_35_big_cent = Ya_35_big - 0.5*Ya_35_big.max()"
   ]
  },
  {
   "cell_type": "markdown",
   "metadata": {
    "jp-MarkdownHeadingCollapsed": true,
    "tags": []
   },
   "source": [
    "## Define geometry of altimeter footprints"
   ]
  },
  {
   "cell_type": "code",
   "execution_count": null,
   "metadata": {
    "tags": []
   },
   "outputs": [],
   "source": [
    "clight = 299792458\n",
    "freq_satsampl = 20 # freq for waveforms\n",
    "v_sat = 7*1e3 # satellite velocity in m/s\n",
    "Rearth = 6370*1e3\n",
    "nHs = 250\n",
    "nze = 251\n",
    "\n",
    "nx_s = np.min((len(Xa_35_big),len(Ya_35_big)))\n",
    "\n",
    "di=np.floor((v_sat/freq_satsampl)/dx_big).astype(int) # distance between footprint centers, in pixels (v_sat/freq_satsampl = dsitance in m)\n",
    "\n",
    "# --- radius to compute waveforms --------------\n",
    "nxa0=np.floor(10*1e3/dx_big).astype(int) # size of radius of footprint in pixel\n",
    "nsamp=np.floor((nx_s-2*nxa0)/di).astype(int) # Nb of samplesnxa_L2 = np.floor(10*1e3/dx_c).astype(int)\n",
    "\n",
    "iasamp = nxa0+np.arange(nsamp,dtype=int)*di\n",
    "Xalts = Xa_35_big[iasamp]\n",
    "Yalts = Ya_35_big[iasamp[:-1]]"
   ]
  },
  {
   "cell_type": "markdown",
   "metadata": {
    "jp-MarkdownHeadingCollapsed": true,
    "tags": []
   },
   "source": [
    "### Compute waveforms and performs retracking 2D  (Hs, epoch)"
   ]
  },
  {
   "cell_type": "code",
   "execution_count": null,
   "metadata": {
    "slideshow": {
     "slide_type": "skip"
    },
    "tags": []
   },
   "outputs": [],
   "source": [
    "# --- Compute 2 params ----------------------------\n",
    "Altis = np.array([519*1e3, 781*1e3, 800*1e3, 891*1e3, 1340*1e3])\n",
    "namesAltis = ['CFOSAT', 'SARAL', 'ENVISAT', 'SWOT', 'Jason3']\n",
    "BW = np.array([(320*1e6),(500*1e6),(320*1e6),(320*1e6),(320*1e6)])\n",
    "\n",
    "ialti = 0\n",
    "\n",
    "iscompute = 1\n",
    "alti_sat = Altis[ialti]\n",
    "bandwidth = BW[ialti]\n",
    "nameSat = namesAltis[ialti]\n",
    "\n",
    "if iscompute:\n",
    "    print(nameSat)\n",
    "    \n",
    "    DiamChelton = calc_footprint_diam(Hs_35,Rorbit = alti_sat, pulse_width=1/bandwidth)\n",
    "    \n",
    "    dr = clight * 1/(2*bandwidth)\n",
    "    range_offset = 10.0 # 22*dr\n",
    "    print('offset:',range_offset)\n",
    "    \n",
    "    wfm_ref, Hsm_ref, ze_ref, edges_ref, dr = generate_wvform_database_2D(nHs,nze,ne=None,bandwidth=bandwidth,edges_max=35,\n",
    "                                                          Hs_max=25,offset=range_offset)\n",
    "        \n",
    "        \n",
    "    nxa = np.floor(DiamChelton/dx_big).astype(int) # size of radius of footprint in pixel\n",
    "    print('size of radius of footprint in pixel : ',nxa)\n",
    " \n",
    "    # --- compute only retracking ---------------------------\n",
    "    Hs_retrack_2D,ze_retrack_2D,Xalt,Yalt,_,_ = fly_over_track_only_retrack_2D(Xa_35_big,Ya_35_big,S_r_35_big,\\\n",
    "                                                        nsamp,nxa0,nxa,di,wfm_ref,Hsm_ref,\\\n",
    "                                                        edges_ref,ze_ref,range_shift=range_offset,\\\n",
    "                                                        alti_sat=alti_sat)\n",
    "\n",
    "    np.savez(PATH_save0+'Hs_ze_retrack_good_surface_'+nameSat,alti_sat = alti_sat,name_sat = nameSat,BWs = bandwidth,\n",
    "             Xalt = Xalt,Yalt = Yalt,X_surf = Xa_35_big, Y_surf = Ya_35_big,S_r = S_r_35_big,\n",
    "             S_i = S_i_35_big, Hs_retrack_2D = Hs_retrack_2D, ze_retrack_2D = ze_retrack_2D)\n",
    "else:\n",
    "    data=np.load(PATH_read0+'Hs_ze_retrack_good_surface_'+nameSat+'.npz',allow_pickle=True)\n",
    "    for k in data.keys():\n",
    "        print(k+' = data[\"'+k+'\"]')\n",
    "        exec(k+' = data[\"'+k+'\"]')"
   ]
  },
  {
   "cell_type": "markdown",
   "metadata": {
    "jp-MarkdownHeadingCollapsed": true,
    "tags": []
   },
   "source": [
    "### Compute waveforms and performs retracking 1D  (Hs only)"
   ]
  },
  {
   "cell_type": "code",
   "execution_count": null,
   "metadata": {
    "slideshow": {
     "slide_type": "skip"
    },
    "tags": []
   },
   "outputs": [],
   "source": [
    "Altis = np.array([519*1e3, 781*1e3, 800*1e3, 891*1e3, 1340*1e3])\n",
    "namesAltis = ['CFOSAT', 'SARAL', 'ENVISAT', 'SWOT', 'Jason3']\n",
    "BW = np.array([(320*1e6),(500*1e6),(320*1e6),(320*1e6),(320*1e6)])\n",
    "\n",
    "ialti = 0\n",
    "\n",
    "iscompute = 0\n",
    "alti_sat = Altis[ialti]\n",
    "bandwidth = BW[ialti]\n",
    "nameSat = namesAltis[ialti]\n",
    "    \n",
    "if iscompute:\n",
    "    print(nameSat)\n",
    "    \n",
    "    DiamChelton = calc_footprint_diam(Hs_35,Rorbit = alti_sat, pulse_width=1/bandwidth)\n",
    "    \n",
    "    dr = clight * 1/(2*bandwidth)\n",
    "    range_offset = 22.5*dr\n",
    "    \n",
    "    wfm_ref, Hsm_ref, edges_ref,dr = generate_wvform_database(nHs,ne=None,bandwidth=bandwidth,edges_max=35,\n",
    "                                                          Hs_max=25,offset=range_offset)\n",
    "        \n",
    "        \n",
    "    nxa = np.floor(DiamChelton/dx_big).astype(int) # size of radius of footprint in pixel\n",
    "    print('size of radius of footprint in pixel : ',nxa)\n",
    " \n",
    "    # --- compute only retracking ---------------------------\n",
    "    Hs_retrack_1D,Xalt,Yalt,_,_ = fly_over_track_only_retrack(Xa_35_big,Ya_35_big,S_r_35_big,\\\n",
    "                                                        nsamp,nxa0,nxa,di,wfm_ref,Hsm_ref,\\\n",
    "                                                        edges_ref,range_shift=range_offset,\\\n",
    "                                                        alti_sat=alti_sat,isepoch = 0)\n",
    "\n",
    "#    np.savez(PATH_save0+'/Hs_retrack_good_surface_'+nameSat,alti_sat = alti_sat,names_sat = nameSat,BWs= bandwidth,\n",
    "#             Xalt = Xalt,Yalt=Yalt,X_surf =Xa_35_big, Y_surf = Ya_35_big,S_r = S_r_35_big,\n",
    "#             S_i = S_i_35_big, Hs_retrack_1D = Hs_retrack_1D)\n",
    "else:\n",
    "    data=np.load(PATH_read0+'Hs_retrack_good_surface_'+nameSat+'.npz',allow_pickle=True)\n",
    "    for k in data.keys():\n",
    "        print(k+' = data[\"'+k+'\"]')\n",
    "        exec(k+' = data[\"'+k+'\"]')"
   ]
  },
  {
   "cell_type": "markdown",
   "metadata": {
    "tags": []
   },
   "source": [
    "## Define filters to get (Hs,epoch) from envelope map"
   ]
  },
  {
   "cell_type": "code",
   "execution_count": null,
   "metadata": {},
   "outputs": [],
   "source": [
    "def define_filter_annexA(Xa_c,Ya_c,DiamChelton,nkx_c,nky_c,dx_c,dy_c):\n",
    "# Uses approximation r0**2/rc**2 = R0/Hs \n",
    "    twopi = 2*np.pi\n",
    "    rc = DiamChelton/2\n",
    "    [Xa_c2,Ya_c2] = np.meshgrid(Xa_c, Ya_c, indexing='ij')\n",
    " \n",
    "    r0 = np.sqrt((Xa_c2)**2+(Ya_c2)**2)\n",
    "\n",
    "# Defines a Gaussian filter scaled with rc \n",
    "    G_Lc20 = np.exp(-0.5* r0**2 / (rc)**2 )\n",
    "    G_Lc2 = G_Lc20/(rc**2*twopi)\n",
    "\n",
    "    Id = np.zeros(np.shape(G_Lc2))\n",
    "    Id[nkx_c//2,nky_c//2]=1/(dx_c*dy_c)\n",
    "\n",
    "#  This is the same as Jr0= A / (pi*h*Hs) * J \n",
    "    Jr0 = (4*dx_c*dy_c/(np.pi*rc**2)) * (r0/rc)**2 * (6 - ((2*r0/rc)**4)) * np.exp(- 4 * r0**4 / rc**4)\n",
    "    Jr1 = fftconvolve((Id-G_Lc2),Jr0,mode='same')\n",
    "    \n",
    "    Filter_new = (G_Lc2+Jr1)\n",
    "    \n",
    "    phi_x0 = xr.DataArray(Filter_new,\n",
    "        dims=['x','y'],\n",
    "        coords={\n",
    "            \"x\" : Xa_c,\n",
    "            \"y\" : Ya_c,\n",
    "            },\n",
    "        )\n",
    "    return phi_x0"
   ]
  },
  {
   "cell_type": "code",
   "execution_count": null,
   "metadata": {},
   "outputs": [],
   "source": [
    "#Functions (filter J2 + custom plots)\n",
    "def define_filter_J2_annexA(Xa_c,Ya_c,DiamChelton,nkx_c,nky_c,dx_c,dy_c,isplot=0):\n",
    "    twopi = 2*np.pi\n",
    "    rc = DiamChelton/2\n",
    "    [Xa_c2,Ya_c2] = np.meshgrid(Xa_c, Ya_c, indexing='ij')\n",
    "    r0 = np.sqrt((Xa_c2)**2+(Ya_c2)**2)\n",
    "# Defines a Gaussian filter scaled with rc \n",
    "    G_Lc20 = np.exp(-0.5* r0**2 / (rc)**2 )\n",
    "    G_Lc2 = G_Lc20/(rc**2*twopi)\n",
    "    Id = np.zeros(np.shape(G_Lc2))\n",
    "    Id[nkx_c//2,nky_c//2]=1/(dx_c*dy_c)\n",
    "#     plt.plot(Xa_c,Id[:,nky_c//2]-G_Lc2[:,nky_c//2])\n",
    "# Uses approximation r0**2/rc**2 = R0/Hs \n",
    "#  This is the same as J200= -A / (4*2*pi*h*Hs) * J2\n",
    "    J200 = -(dx_c*dy_c/(4*np.pi*rc**2)) * (2 - 16*((r0/rc)**4)) * np.exp(- 4 * r0**4 / rc**4)\n",
    "    Jr2 = fftconvolve((Id-G_Lc2),J200,mode='same')\n",
    "    Filter_new = (Jr2)\n",
    "    #print('Sum:',np.sum(np.abs(Filter_new)*dx_c*dy_c),dx_c*dy_c)\n",
    "    #Filter_new = -Filter_new/np.sum(np.abs(Filter_new)*dx_c*dy_c)\n",
    "    if isplot:\n",
    "        plt.figure()\n",
    "        plt.plot(Xa_c,G_Lc2[:,nky_c//2],label='G_{Lc}')\n",
    "        plt.plot(Xa_c,J20[:,nky_c//2],label='J20')\n",
    "        plt.plot(Xa_c,Jr2[:,nky_c//2],label='Jr2')\n",
    "        plt.grid(True)\n",
    "        plt.legend()\n",
    "    phi_x0 = xr.DataArray(Filter_new,\n",
    "                dims=['x','y'],\n",
    "                coords={\n",
    "                    \"x\" : Xa_c,\n",
    "                    \"y\" : Ya_c,\n",
    "                    },\n",
    "                )\n",
    "    return phi_x0"
   ]
  },
  {
   "cell_type": "markdown",
   "metadata": {
    "jp-MarkdownHeadingCollapsed": true,
    "tags": []
   },
   "source": [
    "## Compute filters"
   ]
  },
  {
   "cell_type": "code",
   "execution_count": null,
   "metadata": {
    "tags": []
   },
   "outputs": [],
   "source": [
    "phi_J_AnnexA = define_filter_annexA(Xa_35_big_cent,Ya_35_big_cent,Lc_35,nx_big,ny_big,dx_big,dy_big)\n",
    "\n",
    "phi_J2_A = define_filter_J2_annexA(Xa_35_big_cent,Ya_35_big_cent,Lc_35,nx_big,ny_big,dx_big,dy_big)"
   ]
  },
  {
   "cell_type": "markdown",
   "metadata": {
    "tags": []
   },
   "source": [
    "## Apply filters"
   ]
  },
  {
   "cell_type": "code",
   "execution_count": null,
   "metadata": {
    "tags": []
   },
   "outputs": [],
   "source": [
    "# coeff transforms the envelope to Hs map \n",
    "coeff=4*np.sqrt(2/np.pi)\n",
    "\n",
    "# -- fftconvolve J and J2 from Annex A to env ------\n",
    "B11 = fftconvolve(B_35_big,phi_J_AnnexA,mode='same')*dx_big*dy_big\n",
    "B12 = B11[iasamp[:-1]][:,iasamp].T\n",
    "equiv_Hs = coeff * B12\n",
    "\n",
    "B31 = fftconvolve(B_35_big,phi_J2_A,mode='same')*dx_big*dy_big\n",
    "B32 = B31[iasamp[:-1]][:,iasamp].T\n",
    "equiv_ze = coeff * B32\n"
   ]
  },
  {
   "cell_type": "markdown",
   "metadata": {},
   "source": [
    "# PLOTS"
   ]
  },
  {
   "cell_type": "markdown",
   "metadata": {},
   "source": [
    "## Compare 1D vs 2D"
   ]
  },
  {
   "cell_type": "code",
   "execution_count": null,
   "metadata": {
    "tags": []
   },
   "outputs": [],
   "source": [
    "print(np.mean(Hs_retrack_2D),np.mean(Hs_retrack_1D))\n",
    "fig,axs=plt.subplots(1,3,figsize=(21,6))\n",
    "vmin=None\n",
    "vmax=None\n",
    "ax=axs[0]\n",
    "im=ax.pcolormesh(Xalts/1e3,Yalts/1e3,Hs_retrack_1D.T,vmin=vmin,vmax=vmax)\n",
    "ax=custom_plots_surf(ax,im,iskm=1,alongT_isY=0,labelcb='$H_s$ retrack 1D [m]')\n",
    "[vmin,vmax]=im.get_clim()\n",
    "ax.set_title('$H_s$ retrack 1D [m]')\n",
    "\n",
    "ax=axs[1]\n",
    "im=ax.pcolormesh(Xalts/1e3,Yalts/1e3,Hs_retrack_2D.T,vmin=vmin,vmax=vmax)\n",
    "ax=custom_plots_surf(ax,im,iskm=1,alongT_isY=0,labelcb='$H_s$ retrack 2D [m]')\n",
    "ax.set_title('$H_s$ retrack 2D [m]')\n",
    "\n",
    "ax=axs[2]\n",
    "im=ax.pcolormesh(Xalts/1e3,Yalts/1e3,(Hs_retrack_1D-Hs_retrack_2D).T)#,vmin=vmin,vmax=vmax)\n",
    "ax=custom_plots_surf(ax,im,iskm=1,alongT_isY=0,labelcb='difference [m]')\n",
    "ax.set_title('$H_s$ retrack 1D - 2D [m]')\n",
    "\n",
    "plt.tight_layout()"
   ]
  },
  {
   "cell_type": "markdown",
   "metadata": {},
   "source": [
    "## Compare 2D vs equivalent"
   ]
  },
  {
   "cell_type": "code",
   "execution_count": null,
   "metadata": {
    "tags": []
   },
   "outputs": [],
   "source": [
    "fig,axs=plt.subplots(2,2,figsize=(21,16))\n",
    "vmin=None\n",
    "vmax=None\n",
    "ax=axs[0,0]\n",
    "im=ax.pcolormesh(Xalts/1e3,Yalts/1e3,Hs_retrack_2D.T,vmin=vmin,vmax=vmax)\n",
    "ax=custom_plots_surf(ax,im,iskm=1,alongT_isY=0,labelcb='$H_s$ retrack 2D [m]')\n",
    "[vmin,vmax]=im.get_clim()\n",
    "\n",
    "ax=axs[0,1]\n",
    "im=ax.pcolormesh(Xalts/1e3,Yalts/1e3,equiv_Hs.T,vmin=vmin,vmax=vmax)\n",
    "ax=custom_plots_surf(ax,im,iskm=1,alongT_isY=0,labelcb='$H_s$ from smooth [m]')\n",
    "\n",
    "ax=axs[1,0]\n",
    "im=ax.pcolormesh(Xalts/1e3,Yalts/1e3,ze_retrack_2D.T)\n",
    "ax=custom_plots_surf(ax,im,iskm=1,alongT_isY=0,labelcb='$z_e$ retrack 2D [m]')\n",
    "[vmin,vmax]=im.get_clim()\n",
    "\n",
    "ax=axs[1,1]\n",
    "im=ax.pcolormesh(Xalts/1e3,Yalts/1e3,equiv_ze.T,vmin=vmin,vmax=vmax)\n",
    "ax=custom_plots_surf(ax,im,iskm=1,alongT_isY=0,labelcb='$z_e$ from smooth [m]')\n",
    "\n",
    "plt.tight_layout()"
   ]
  },
  {
   "cell_type": "code",
   "execution_count": null,
   "metadata": {},
   "outputs": [],
   "source": [
    "ratio_ze = np.abs(ze_retrack_2D-(equiv_ze))/np.abs(equiv_ze)\n",
    "\n",
    "ratio_ze = (ze_retrack_2D+1)/(equiv_ze +1)\n",
    "# plt.hist(ratio_ze.flatten(),bins=np.linspace(0,5,200));\n",
    "\n",
    "plt.plot(ze_retrack_2D,equiv_ze,'.k');\n",
    "plt.xlabel('ze retrack')\n",
    "plt.ylabel('ze from smooth')\n",
    "plt.axline([0,0],slope=1,color='k',linestyle='--')\n",
    "# plt.axline([0,0],slope=2,color='r')\n",
    "# plt.axline([0,0],slope=1.5,color='b')\n",
    "\n",
    "from scipy import stats\n",
    "res = stats.linregress(ze_retrack_2D.flatten(),equiv_ze.flatten())\n",
    "rval = res.rvalue\n",
    "rinter = res.intercept\n",
    "rslope = res.slope\n",
    "\n",
    "plt.axline([0,rinter],slope=rslope,color='b',lw=3)\n",
    "print(res)"
   ]
  },
  {
   "cell_type": "code",
   "execution_count": null,
   "metadata": {},
   "outputs": [],
   "source": [
    "print('std of ze is :',np.stdata:image/png;base64,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(ze_retrack_2D))"
   ]
  },
  {
   "cell_type": "code",
   "execution_count": null,
   "metadata": {},
   "outputs": [],
   "source": []
  }
 ],
 "metadata": {
  "celltoolbar": "Raw Cell Format",
  "kernelspec": {
   "display_name": "Python 3",
   "language": "python",
   "name": "python3"
  },
  "language_info": {
   "codemirror_mode": {
    "name": "ipython",
    "version": 3
   },
   "file_extension": ".py",
   "mimetype": "text/x-python",
   "name": "python",
   "nbconvert_exporter": "python",
   "pygments_lexer": "ipython3",
   "version": "3.8.8"
  }
 },
 "nbformat": 4,
 "nbformat_minor": 4
}
