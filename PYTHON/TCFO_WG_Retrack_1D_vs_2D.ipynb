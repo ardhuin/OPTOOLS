{
 "cells": [
  {
   "cell_type": "markdown",
   "metadata": {
    "tags": []
   },
   "source": [
    "# Import Packages"
   ]
  },
  {
   "cell_type": "code",
   "execution_count": null,
   "metadata": {
    "tags": []
   },
   "outputs": [],
   "source": [
    "import sys\n",
    "import os\n",
    "\n",
    "PATH_with_functions = '/home/ardhuin/TOOLS/OPTOOLS/PYTHON/'\n",
    "PATH_save0 = '/home/ardhuin/PUBLI/2023_groups/Notebook_retrack/test/'\n",
    "PATH_read0 = ''\n",
    "PATH_save = ''\n",
    "PATH_save2 = ''\n",
    "sys.path.append(PATH_with_functions)\n",
    "\n",
    "import glob\n",
    "import xarray as xr\n",
    "import numpy as np\n",
    "import pandas as pd\n",
    "\n",
    "#import cartopy.crs as ccrs\n",
    "#import cartopy.feature as cfeature\n",
    "import scipy.interpolate as spi\n",
    "import scipy.integrate as spint\n",
    "from scipy.ndimage import gaussian_filter, correlate\n",
    "from scipy.signal import hilbert,hilbert2,fftconvolve\n",
    "\n",
    "from functions_cfosat_env import *\n",
    "from surface_simulation_functions import *\n",
    "from altimetry_waveforms_functions import *\n",
    "from matplotlib.dates import DateFormatter\n",
    "# --- plotting and interactive stuff ----------------------\n",
    "import matplotlib.pyplot as plt\n",
    "# from matplotlib.ticker import AutoMinorLocator, FixedLocator\n",
    "\n",
    "#from Envelope_convolution_functions import *\n",
    "\n",
    "cNorm = mcolors.Normalize(vmin=0, vmax=2)\n",
    "jet = plt.get_cmap('jet')\n",
    "mpl.rcParams.update({'figure.figsize':[10,6],'axes.grid' : True,'font.size': 14,'savefig.facecolor':'white'})\n",
    "\n",
    "cmap0 = 'viridis'"
   ]
  },
  {
   "cell_type": "markdown",
   "metadata": {},
   "source": [
    "# Prepare all"
   ]
  },
  {
   "cell_type": "code",
   "execution_count": null,
   "metadata": {
    "tags": []
   },
   "outputs": [],
   "source": [
    "# ------ plot retrack vs 4 * std(zeta) for all radiuses for both ind1 and ind2 -------------\n",
    "def custom_plots_surf(ax,im,iskm=1,alongT_isY=1,labelcb=None):\n",
    "    if alongT_isY:\n",
    "        xlb = 'Cross-track '\n",
    "        ylb = 'Along-track '\n",
    "    else:\n",
    "        xlb = 'X '\n",
    "        ylb = 'Y '\n",
    "\n",
    "    if iskm:\n",
    "        xlb = xlb+'[km]'\n",
    "        ylb = ylb+'[km]'\n",
    "    else:\n",
    "        xlb = xlb+'[m]'\n",
    "        ylb = ylb+'[m]'       \n",
    "    \n",
    "    ax.set_xlabel(xlb);\n",
    "    ax.set_ylabel(ylb);\n",
    "\n",
    "    ax.set_aspect('equal', 'box');\n",
    "    if labelcb is None:\n",
    "        plt.colorbar(im, ax=ax)\n",
    "    else:\n",
    "        plt.colorbar(im, ax=ax,label=labelcb)\n",
    "    return ax\n",
    "\n",
    "def custom_plots_spec(ax,im,iswnb=1,alongT_isY=1,klim=None,labelcb=None):\n",
    "    if iswnb:\n",
    "        xlb = '$k_x$ [rad/m]'\n",
    "        ylb = '$k_x$ [rad/m]'\n",
    "    else:\n",
    "        xlb = '$k_x / 2 \\pi$ [km$^{-1}$]'\n",
    "        ylb = '$k_y / 2 \\pi$ [km$^{-1}$]'\n",
    "    \n",
    "    if alongT_isY:\n",
    "        ax.set_xlabel(ylb)\n",
    "        ax.set_ylabel(xlb)\n",
    "    else:\n",
    "        ax.set_xlabel(xlb)\n",
    "        ax.set_ylabel(ylb)\n",
    "\n",
    "    ax.set_aspect('equal', 'box');\n",
    "    if labelcb is None:\n",
    "        plt.colorbar(im, ax=ax)\n",
    "    else:\n",
    "        plt.colorbar(im, ax=ax,label=labelcb)\n",
    "        \n",
    "    if klim is not None:\n",
    "        ax.set_xlim((-klim,klim))\n",
    "        ax.set_ylim((-klim,klim))\n",
    "    return ax"
   ]
  },
  {
   "cell_type": "markdown",
   "metadata": {
    "tags": []
   },
   "source": [
    "## Read spectrum"
   ]
  },
  {
   "cell_type": "code",
   "execution_count": null,
   "metadata": {
    "tags": []
   },
   "outputs": [],
   "source": [
    "DS = xr.open_dataset(PATH_save2+'Spectrum_L2S_ind9_35.nc')\n",
    "Hs_9 = DS['Hs_ind_9_box'].compute().data\n",
    "Hs_9_L2S = DS['Hs_ind_9_L2S'].compute().data\n",
    "Hs_35 = DS['Hs_ind_35_box'].compute().data\n",
    "Hs_35_L2S = DS['Hs_ind_35_L2S'].compute().data\n",
    "# Use factor to check different wave heights ... \n",
    "Hsfac=1\n",
    "Lc_9 = calc_footprint_diam(Hs_9)\n",
    "print('ind 1: 9, Hs=',Hs_9,'m, Diameter Chelton =',Lc_9)\n",
    "Lc_35 = calc_footprint_diam(Hs_35*Hsfac)\n",
    "print('ind 2: 35, Hs=',Hs_35,'m, Diameter Chelton =',Lc_35)"
   ]
  },
  {
   "cell_type": "markdown",
   "metadata": {
    "jp-MarkdownHeadingCollapsed": true,
    "tags": []
   },
   "source": [
    "## Generate or load sea surface (geometry only)"
   ]
  },
  {
   "cell_type": "code",
   "execution_count": null,
   "metadata": {
    "tags": []
   },
   "outputs": [],
   "source": [
    "iscompute = 0\n",
    "if iscompute:\n",
    "    Efth = DS['Spec_L2S_ind_35_1Sided'].compute().data*Hs_35**2/Hs_35_L2S**2*Hsfac**2\n",
    "    th_vec = DS['phi_vector_L2S_ind_35'].compute().data\n",
    "    f_vec = DS['k_vector'].compute().data\n",
    "    nx_big = 2**12\n",
    "    ny_big = nx_big-2\n",
    "    dx_big=14\n",
    "    dy_big=14\n",
    "    seed=0\n",
    "\n",
    "    S_r_35_big,S_i_35_big,Xa_35_big,Ya_35_big,\\\n",
    "    rg,kX2_35_big,kY2_35_big,Ekxky_35_big,dkx2_35,dky2_35 = surface_from_Efth(Efth,f_vec,th_vec,\n",
    "                                                                        seed=seed,nx=nx_big,\n",
    "                                                                        ny=ny_big,dx=dx_big,dy=dy_big,iswvnb=1)\n",
    "\n",
    "    np.savez(PATH_save2+'surface_good_for_images_ind35_L2S',seed=seed,dx=dx_big,dy=dy_big,X=Xa_35_big,Y=Ya_35_big,S_r =S_r_35_big ,S_i = S_i_35_big)\n",
    "else:\n",
    "    data = np.load(PATH_save2+'surface_good_for_images_ind35_L2S.npz',allow_pickle=True)\n",
    "    dx_big = data['dx']\n",
    "    dy_big = data['dy']\n",
    "    Xa_35_big = data['X']\n",
    "    Ya_35_big = data['Y']\n",
    "    S_r_35_big = data['S_r']\n",
    "    S_i_35_big = data['S_i']\n",
    "    seed = data['seed']\n",
    "    \n",
    "B_35_big = np.sqrt(S_r_35_big**2+S_i_35_big**2)\n",
    "nx_big = len(Xa_35_big)\n",
    "ny_big = len(Ya_35_big)\n",
    "Xa_35_big_cent = Xa_35_big - 0.5*Xa_35_big.max()\n",
    "Ya_35_big_cent = Ya_35_big - 0.5*Ya_35_big.max()"
   ]
  },
  {
   "cell_type": "markdown",
   "metadata": {
    "jp-MarkdownHeadingCollapsed": true,
    "tags": []
   },
   "source": [
    "## Define geometry of altimeter footprints"
   ]
  },
  {
   "cell_type": "code",
   "execution_count": null,
   "metadata": {
    "tags": []
   },
   "outputs": [],
   "source": [
    "clight = 299792458\n",
    "Rearth = 6370*1e3\n",
    "v_sat = 7*1e3 # satellite velocity in m/s\n",
    "\n",
    "freq_satsampl = 20 # freq for waveforms\n",
    "\n",
    "nx_s = np.min((len(Xa_35_big),len(Ya_35_big)))\n",
    "\n",
    "di=np.floor((v_sat/freq_satsampl)/dx_big).astype(int) # distance between footprint centers, in pixels (v_sat/freq_satsampl = dsitance in m)\n",
    "\n",
    "# --- radius to compute waveforms --------------\n",
    "nxa0=np.floor(10*1e3/dx_big).astype(int) # size of radius of footprint in pixel\n",
    "nsamp=np.floor((nx_s-2*nxa0)/di).astype(int) # Nb of samplesnxa_L2 = np.floor(10*1e3/dx_c).astype(int)\n",
    "#nsamp=10\n",
    "\n",
    "iasamp = nxa0+np.arange(nsamp,dtype=int)*di\n",
    "Xalts = Xa_35_big[iasamp]\n",
    "Yalts = Ya_35_big[iasamp[:-1]]"
   ]
  },
  {
   "cell_type": "markdown",
   "metadata": {
    "jp-MarkdownHeadingCollapsed": true,
    "tags": []
   },
   "source": [
    "### Compute waveforms and performs retracking 2D  (Hs, epoch)"
   ]
  },
  {
   "cell_type": "code",
   "execution_count": null,
   "metadata": {
    "slideshow": {
     "slide_type": "skip"
    },
    "tags": []
   },
   "outputs": [],
   "source": [
    "nHs = 250\n",
    "nze = 251\n",
    "# --- Compute 2 params ----------------------------\n",
    "Altis = np.array([519*1e3, 781*1e3, 800*1e3, 891*1e3, 1340*1e3])\n",
    "namesAltis = ['CFOSAT', 'SARAL', 'ENVISAT', 'SWOT', 'Jason3']\n",
    "BW = np.array([(320*1e6),(500*1e6),(320*1e6),(320*1e6),(320*1e6)])\n",
    "\n",
    "ialti = 0\n",
    "\n",
    "iscompute = 1\n",
    "alti_sat = Altis[ialti]\n",
    "bandwidth = BW[ialti]\n",
    "nameSat = namesAltis[ialti]\n",
    "\n",
    "if iscompute:\n",
    "    print(nameSat)\n",
    "    \n",
    "    DiamChelton = calc_footprint_diam(Hs_35,Rorbit = alti_sat, pulse_width=1/bandwidth)\n",
    "    \n",
    "    dr = clight * 1/(2*bandwidth)\n",
    "    range_offset = 10.0 # 22*dr\n",
    "    print('offset:',range_offset)\n",
    "    \n",
    "    wfm_ref, Hsm_ref, ze_ref, edges_ref, dr = generate_wvform_database_2D(nHs,nze,ne=None,bandwidth=bandwidth,edges_max=35,\n",
    "                                                          Hs_max=25,offset=range_offset)\n",
    "        \n",
    "        \n",
    "    nxa = np.floor(DiamChelton/dx_big).astype(int) # size of radius of footprint in pixel\n",
    "    print('size of radius of footprint in pixel : ',nxa)\n",
    " \n",
    "    # --- compute only retracking ---------------------------\n",
    "#    Hs_retrack_2D,ze_retrack_2D,Xalt,Yalt,_,_ = fly_over_track_only_retrack_2D(Xa_35_big,Ya_35_big,S_r_35_big,\\\n",
    "#                                                        nsamp,nxa0,nxa,di,wfm_ref,Hsm_ref,\\\n",
    "#                                                        edges_ref,ze_ref,range_shift=range_offset,\\\n",
    "#                                                        alti_sat=alti_sat)\n",
    "    Hs_retrack_2D,ze_retrack_2D,Xalt,Yalt,waveforms,_ = fly_over_track_only_retrack_2D(Xa_35_big,Ya_35_big,S_r_35_big,\\\n",
    "                                                        nsamp,nxa0,nxa,di,wfm_ref,Hsm_ref,\\\n",
    "                                                        edges_ref,ze_ref,range_shift=range_offset,\\\n",
    "                                                        alti_sat=alti_sat)\n",
    "\n",
    "    np.savez(PATH_save0+'Hs_ze_retrack_good_surface_'+nameSat,alti_sat = alti_sat,name_sat = nameSat,BWs = bandwidth,\n",
    "             Xalt = Xalt,Yalt = Yalt,waveforms = waveforms, X_surf = Xa_35_big, Y_surf = Ya_35_big,S_r = S_r_35_big,\n",
    "             S_i = S_i_35_big, Hs_retrack_2D = Hs_retrack_2D, ze_retrack_2D = ze_retrack_2D)\n",
    "else:\n",
    "    data=np.load(PATH_read0+'Hs_ze_retrack_good_surface_'+nameSat+'.npz',allow_pickle=True)\n",
    "    for k in data.keys():\n",
    "        print(k+' = data[\"'+k+'\"]')\n",
    "        exec(k+' = data[\"'+k+'\"]')"
   ]
  },
  {
   "cell_type": "code",
   "execution_count": null,
   "metadata": {},
   "outputs": [],
   "source": [
    "## Checks retracking on one example\n",
    "ir=int((Hs_retrack_2D[0,0]-Hsm_ref[0])/(Hsm_ref[1]-Hsm_ref[0]))\n",
    "jr=int((ze_retrack_2D[0,0]-ze_ref[0])/(ze_ref[1]-ze_ref[0]))\n",
    "print('Indices in waveform database:',ir,jr)\n",
    "fig,axs=plt.subplots(1,2,figsize=(12,6))\n",
    "ax=axs[0]\n",
    "line1=ax.plot(edges_ref[0:-1]+dr/2,waveforms[0,0,:],color='k',label='waveform')\n",
    "line2=ax.plot(edges_ref[0:-1]+dr/2,wfm_ref[ir,jr,:],color='r',label='fitted wf')\n",
    "ax.set_xlabel('range (m)')\n",
    "ax.set_ylabel('waveform')\n",
    "leg = ax.legend(loc='upper right')\n",
    "ax=axs[1]\n",
    "im=ax.pcolormesh(Xalts/1e3,Yalts/1e3,Hs_retrack_2D.T)\n",
    "ax=custom_plots_surf(ax,im,iskm=1,alongT_isY=0,labelcb='$H_s$ retrack 2D [m]')\n",
    "ax.set_title('$H_s$ retrack 2D [m]')\n"
   ]
  },
  {
   "cell_type": "markdown",
   "metadata": {
    "jp-MarkdownHeadingCollapsed": true,
    "tags": []
   },
   "source": [
    "### Compute waveforms and performs retracking 1D  (Hs only)"
   ]
  },
  {
   "cell_type": "code",
   "execution_count": null,
   "metadata": {
    "slideshow": {
     "slide_type": "skip"
    },
    "tags": []
   },
   "outputs": [],
   "source": [
    "Altis = np.array([519*1e3, 781*1e3, 800*1e3, 891*1e3, 1340*1e3])\n",
    "namesAltis = ['CFOSAT', 'SARAL', 'ENVISAT', 'SWOT', 'Jason3']\n",
    "BW = np.array([(320*1e6),(500*1e6),(320*1e6),(320*1e6),(320*1e6)])\n",
    "\n",
    "ialti = 0\n",
    "\n",
    "iscompute = 1\n",
    "alti_sat = Altis[ialti]\n",
    "bandwidth = BW[ialti]\n",
    "nameSat = namesAltis[ialti]\n",
    "    \n",
    "if iscompute:\n",
    "    print(nameSat)\n",
    "    \n",
    "    DiamChelton = calc_footprint_diam(Hs_35,Rorbit = alti_sat, pulse_width=1/bandwidth)\n",
    "    \n",
    "    dr = clight * 1/(2*bandwidth)\n",
    "    range_offset = 22.5*dr\n",
    "    \n",
    "    wfm_ref, Hsm_ref, edges_ref,dr = generate_wvform_database(nHs,ne=None,bandwidth=bandwidth,edges_max=35,\n",
    "                                                          Hs_max=25,offset=range_offset)\n",
    "        \n",
    "        \n",
    "    nxa = np.floor(DiamChelton/dx_big).astype(int) # size of radius of footprint in pixel\n",
    "    print('size of radius of footprint in pixel : ',nxa)\n",
    " \n",
    "    # --- compute only retracking ---------------------------\n",
    "    Hs_retrack_1D,Xalt,Yalt,_,_ = fly_over_track_only_retrack(Xa_35_big,Ya_35_big,S_r_35_big,\\\n",
    "                                                        nsamp,nxa0,nxa,di,wfm_ref,Hsm_ref,\\\n",
    "                                                        edges_ref,range_shift=range_offset,\\\n",
    "                                                        alti_sat=alti_sat,isepoch = 0)\n",
    "\n",
    "#    np.savez(PATH_save0+'/Hs_retrack_good_surface_'+nameSat,alti_sat = alti_sat,names_sat = nameSat,BWs= bandwidth,\n",
    "#             Xalt = Xalt,Yalt=Yalt,X_surf =Xa_35_big, Y_surf = Ya_35_big,S_r = S_r_35_big,\n",
    "#             S_i = S_i_35_big, Hs_retrack_1D = Hs_retrack_1D)\n",
    "else:\n",
    "    data=np.load(PATH_read0+'Hs_retrack_good_surface_'+nameSat+'.npz',allow_pickle=True)\n",
    "    for k in data.keys():\n",
    "        print(k+' = data[\"'+k+'\"]')\n",
    "        exec(k+' = data[\"'+k+'\"]')"
   ]
  },
  {
   "cell_type": "code",
   "execution_count": null,
   "metadata": {},
   "outputs": [],
   "source": [
    "## Checks retracking on one example\n",
    "ir=int((Hs_retrack_1D[0,0]-Hsm_ref[0])/(Hsm_ref[1]-Hsm_ref[0]))\n",
    "print('Indices in waveform database:',ir)\n",
    "fig,axs=plt.subplots(1,2,figsize=(12,6))\n",
    "ax=axs[0]\n",
    "line1=ax.plot(edges_ref[0:-1]+dr/2,waveforms[0,0,:],color='k',label='waveform')\n",
    "line2=ax.plot(edges_ref[0:-1]+dr/2,wfm_ref[ir,:],color='r',label='fitted wf')\n",
    "ax.set_xlabel('range (m)')\n",
    "ax.set_ylabel('waveform')\n",
    "leg = ax.legend(loc='upper right')\n",
    "ax=axs[1]\n",
    "im=ax.pcolormesh(Xalts/1e3,Yalts/1e3,Hs_retrack_1D.T)\n",
    "ax=custom_plots_surf(ax,im,iskm=1,alongT_isY=0,labelcb='$H_s$ retrack 2D [m]')\n",
    "ax.set_title('$H_s$ retrack 1D [m]')\n"
   ]
  },
  {
   "cell_type": "markdown",
   "metadata": {
    "tags": []
   },
   "source": [
    "## Define filters to get (Hs,epoch) from envelope map"
   ]
  },
  {
   "cell_type": "code",
   "execution_count": null,
   "metadata": {},
   "outputs": [],
   "source": [
    "def define_filter_annexA(Xa_c,Ya_c,DiamChelton,nkx_c,nky_c,dx_c,dy_c):\n",
    "# Uses approximation r0**2/rc**2 = R0/Hs \n",
    "    twopi = 2*np.pi\n",
    "    rc = DiamChelton/2\n",
    "    [Xa_c2,Ya_c2] = np.meshgrid(Xa_c, Ya_c, indexing='ij')\n",
    " \n",
    "    r0 = np.sqrt((Xa_c2)**2+(Ya_c2)**2)\n",
    "\n",
    "# Defines a Gaussian filter scaled with rc \n",
    "    G_Lc20 = np.exp(-0.5* r0**2 / (rc)**2 )\n",
    "    G_Lc2 = G_Lc20/(rc**2*twopi)\n",
    "\n",
    "    Id = np.zeros(np.shape(G_Lc2))\n",
    "    Id[nkx_c//2,nky_c//2]=1/(dx_c*dy_c)\n",
    "\n",
    "#  This is the same as Jr0= A / (pi*h*Hs) * J \n",
    "    Jr0 = (4*dx_c*dy_c/(np.pi*rc**2)) * (r0/rc)**2 * (6 - ((2*r0/rc)**4)) * np.exp(- 4 * r0**4 / rc**4)\n",
    "    Jr1 = fftconvolve((Id-G_Lc2),Jr0,mode='same')\n",
    "    \n",
    "    Filter_new = (G_Lc2+Jr1)\n",
    "    \n",
    "    phi_x0 = xr.DataArray(Filter_new,\n",
    "        dims=['x','y'],\n",
    "        coords={\n",
    "            \"x\" : Xa_c,\n",
    "            \"y\" : Ya_c,\n",
    "            },\n",
    "        )\n",
    "    return phi_x0"
   ]
  },
  {
   "cell_type": "code",
   "execution_count": null,
   "metadata": {},
   "outputs": [],
   "source": [
    "#Functions (filter J2 + custom plots)\n",
    "def define_filter_J2_annexA(Xa_c,Ya_c,DiamChelton,nkx_c,nky_c,dx_c,dy_c,isplot=0):\n",
    "    twopi = 2*np.pi\n",
    "    rc = DiamChelton/2\n",
    "    [Xa_c2,Ya_c2] = np.meshgrid(Xa_c, Ya_c, indexing='ij')\n",
    "    r0 = np.sqrt((Xa_c2)**2+(Ya_c2)**2)\n",
    "# Defines a Gaussian filter scaled with rc \n",
    "    G_Lc20 = np.exp(-0.5* r0**2 / (rc)**2 )\n",
    "    G_Lc2 = G_Lc20/(rc**2*twopi)\n",
    "    Id = np.zeros(np.shape(G_Lc2))\n",
    "    Id[nkx_c//2,nky_c//2]=1/(dx_c*dy_c)\n",
    "#     plt.plot(Xa_c,Id[:,nky_c//2]-G_Lc2[:,nky_c//2])\n",
    "# Uses approximation r0**2/rc**2 = R0/Hs \n",
    "#  This is the same as J200= -A / (4*2*pi*h*Hs) * J2\n",
    "    J200 = -(dx_c*dy_c/(4*np.pi*rc**2)) * (2 - 16*((r0/rc)**4)) * np.exp(- 4 * r0**4 / rc**4)\n",
    "    Jr2 = fftconvolve((Id-G_Lc2),J200,mode='same')\n",
    "    Filter_new = (Jr2)\n",
    "    #print('Sum:',np.sum(np.abs(Filter_new)*dx_c*dy_c),dx_c*dy_c)\n",
    "    #Filter_new = -Filter_new/np.sum(np.abs(Filter_new)*dx_c*dy_c)\n",
    "    if isplot:\n",
    "        plt.figure()\n",
    "        plt.plot(Xa_c,G_Lc2[:,nky_c//2],label='G_{Lc}')\n",
    "        plt.plot(Xa_c,J20[:,nky_c//2],label='J20')\n",
    "        plt.plot(Xa_c,Jr2[:,nky_c//2],label='Jr2')\n",
    "        plt.grid(True)\n",
    "        plt.legend()\n",
    "    phi_x0 = xr.DataArray(Filter_new,\n",
    "                dims=['x','y'],\n",
    "                coords={\n",
    "                    \"x\" : Xa_c,\n",
    "                    \"y\" : Ya_c,\n",
    "                    },\n",
    "                )\n",
    "    return phi_x0"
   ]
  },
  {
   "cell_type": "markdown",
   "metadata": {
    "jp-MarkdownHeadingCollapsed": true,
    "tags": []
   },
   "source": [
    "## Compute filters"
   ]
  },
  {
   "cell_type": "code",
   "execution_count": null,
   "metadata": {
    "tags": []
   },
   "outputs": [],
   "source": [
    "phi_J_AnnexA = define_filter_annexA(Xa_35_big_cent,Ya_35_big_cent,Lc_35,nx_big,ny_big,dx_big,dy_big)\n",
    "\n",
    "phi_J2_A = define_filter_J2_annexA(Xa_35_big_cent,Ya_35_big_cent,Lc_35,nx_big,ny_big,dx_big,dy_big)"
   ]
  },
  {
   "cell_type": "markdown",
   "metadata": {
    "tags": []
   },
   "source": [
    "## Apply filters"
   ]
  },
  {
   "cell_type": "code",
   "execution_count": null,
   "metadata": {
    "tags": []
   },
   "outputs": [],
   "source": [
    "# coeff transforms the envelope to Hs map \n",
    "coeff=4*np.sqrt(2/np.pi)\n",
    "\n",
    "# -- fftconvolve J and J2 from Annex A to env ------\n",
    "B11 = fftconvolve(B_35_big,phi_J_AnnexA,mode='same')*dx_big*dy_big\n",
    "B12 = B11[iasamp[:-1]][:,iasamp].T\n",
    "equiv_Hs = coeff * B12\n",
    "\n",
    "B31 = fftconvolve(B_35_big,phi_J2_A,mode='same')*dx_big*dy_big\n",
    "B32 = B31[iasamp[:-1]][:,iasamp].T\n",
    "equiv_ze = coeff * B32\n"
   ]
  },
  {
   "cell_type": "markdown",
   "metadata": {},
   "source": [
    "# PLOTS"
   ]
  },
  {
   "cell_type": "markdown",
   "metadata": {},
   "source": [
    "## Compare 1D vs 2D"
   ]
  },
  {
   "cell_type": "code",
   "execution_count": null,
   "metadata": {
    "tags": []
   },
   "outputs": [],
   "source": [
    "print(np.mean(Hs_retrack_2D),np.mean(Hs_retrack_1D))\n",
    "fig,axs=plt.subplots(1,3,figsize=(21,6))\n",
    "vmin=None\n",
    "vmax=None\n",
    "\n",
    "ax=axs[0]\n",
    "im=ax.pcolormesh(Xalts/1e3,Yalts/1e3,Hs_retrack_2D.T,vmin=vmin,vmax=vmax)\n",
    "ax=custom_plots_surf(ax,im,iskm=1,alongT_isY=0,labelcb='$H_s$ retrack 2D [m]')\n",
    "[vmin,vmax]=im.get_clim()\n",
    "ax.set_title('$H_s$ retrack 2D [m]')\n",
    "\n",
    "ax=axs[1]\n",
    "im=ax.pcolormesh(Xalts/1e3,Yalts/1e3,Hs_retrack_1D.T,vmin=vmin,vmax=vmax)\n",
    "ax=custom_plots_surf(ax,im,iskm=1,alongT_isY=0,labelcb='$H_s$ retrack 1D [m]')\n",
    "ax.set_title('$H_s$ retrack 1D [m]')\n",
    "\n",
    "ax=axs[2]\n",
    "im=ax.pcolormesh(Xalts/1e3,Yalts/1e3,(Hs_retrack_1D-Hs_retrack_2D).T)#,vmin=vmin,vmax=vmax)\n",
    "ax=custom_plots_surf(ax,im,iskm=1,alongT_isY=0,labelcb='difference [m]')\n",
    "ax.set_title('$H_s$ retrack 1D - 2D [m]')\n",
    "\n",
    "plt.tight_layout()"
   ]
  },
  {
   "cell_type": "markdown",
   "metadata": {},
   "source": [
    "## Compare 2D vs equivalent"
   ]
  },
  {
   "cell_type": "code",
   "execution_count": null,
   "metadata": {
    "tags": []
   },
   "outputs": [],
   "source": [
    "fig,axs=plt.subplots(2,2,figsize=(21,16))\n",
    "vmin=None\n",
    "vmax=None\n",
    "ax=axs[0,0]\n",
    "im=ax.pcolormesh(Xalts/1e3,Yalts/1e3,Hs_retrack_2D.T,vmin=vmin,vmax=vmax)\n",
    "ax=custom_plots_surf(ax,im,iskm=1,alongT_isY=0,labelcb='$H_s$ retrack 2D [m]')\n",
    "[vmin,vmax]=im.get_clim()\n",
    "\n",
    "ax=axs[0,1]\n",
    "im=ax.pcolormesh(Xalts/1e3,Yalts/1e3,equiv_Hs.T,vmin=vmin,vmax=vmax)\n",
    "ax=custom_plots_surf(ax,im,iskm=1,alongT_isY=0,labelcb='$H_s$ from smooth [m]')\n",
    "\n",
    "ax=axs[1,0]\n",
    "im=ax.pcolormesh(Xalts/1e3,Yalts/1e3,ze_retrack_2D.T)\n",
    "ax=custom_plots_surf(ax,im,iskm=1,alongT_isY=0,labelcb='$z_e$ retrack 2D [m]')\n",
    "[vmin,vmax]=im.get_clim()\n",
    "\n",
    "ax=axs[1,1]\n",
    "im=ax.pcolormesh(Xalts/1e3,Yalts/1e3,equiv_ze.T,vmin=vmin,vmax=vmax)\n",
    "ax=custom_plots_surf(ax,im,iskm=1,alongT_isY=0,labelcb='$z_e$ from smooth [m]')\n",
    "\n",
    "plt.tight_layout()"
   ]
  },
  {
   "cell_type": "code",
   "execution_count": null,
   "metadata": {},
   "outputs": [],
   "source": [
    "ratio_ze = np.abs(ze_retrack_2D-(equiv_ze))/np.abs(equiv_ze)\n",
    "\n",
    "ratio_ze = (ze_retrack_2D+1)/(equiv_ze +1)\n",
    "# plt.hist(ratio_ze.flatten(),bins=np.linspace(0,5,200));\n",
    "\n",
    "plt.plot(ze_retrack_2D,equiv_ze,'.k');\n",
    "plt.xlabel('ze retrack')\n",
    "plt.ylabel('ze from smooth')\n",
    "plt.axline([0,0],slope=1,color='k',linestyle='--')\n",
    "# plt.axline([0,0],slope=2,color='r')\n",
    "# plt.axline([0,0],slope=1.5,color='b')\n",
    "\n",
    "from scipy import stats\n",
    "res = stats.linregress(ze_retrack_2D.flatten(),equiv_ze.flatten())\n",
    "rval = res.rvalue\n",
    "rinter = res.intercept\n",
    "rslope = res.slope\n",
    "\n",
    "plt.axline([0,rinter],slope=rslope,color='b',lw=3)\n",
    "print(res)"
   ]
  },
  {
   "cell_type": "code",
   "execution_count": null,
   "metadata": {},
   "outputs": [],
   "source": [
    "print('std of ze is :',np.std(ze_retrack_2D))"
   ]
  },
  {
   "cell_type": "code",
   "execution_count": null,
   "metadata": {},
   "outputs": [],
   "source": []
  }
 ],
 "metadata": {
  "celltoolbar": "Raw Cell Format",
  "kernelspec": {
   "display_name": "Python 3",
   "language": "python",
   "name": "python3"
  },
  "language_info": {
   "codemirror_mode": {
    "name": "ipython",
    "version": 3
   },
   "file_extension": ".py",
   "mimetype": "text/x-python",
   "name": "python",
   "nbconvert_exporter": "python",
   "pygments_lexer": "ipython3",
   "version": "3.8.8"
  }
 },
 "nbformat": 4,
 "nbformat_minor": 4
}
